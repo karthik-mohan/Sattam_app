{
 "cells": [
  {
   "cell_type": "code",
   "execution_count": 14,
   "id": "d3dcc1ee",
   "metadata": {},
   "outputs": [
    {
     "name": "stdout",
     "output_type": "stream",
     "text": [
      "400\n",
      "{'type': 'https://developer.vonage.com/api-errors', 'title': \"Your request parameters didn't validate.\", 'detail': 'Found errors validating 1 of your submitted parameters.', 'invalid_parameters': [{'name': 'from', 'reason': 'Invalid format.'}], 'instance': 'ae4d601a-9fdd-48c7-9f57-2b8c0756e77e'}\n"
     ]
    }
   ],
   "source": [
    "import requests\n",
    "\n",
    "url = \"https://messages-sandbox.nexmo.com/v0.1/messages\"\n",
    "api_key = \"ef666e52\"\n",
    "api_secret = \"bIU3rJiCg3fO8pqd\"\n",
    "\n",
    "headers = {\n",
    "    \"Content-Type\": \"application/json\",\n",
    "    \"Accept\": \"application/json\",\n",
    "}\n",
    "\n",
    "path = \"id\"\n",
    "payload = {\n",
    "    \"from\": {\"type\": \"instagram\", \"number\": \"17841449184623529\"},\n",
    "    \"to\": {\"type\": \"instagram\", \"number\": \"6744478502271753\"},\n",
    "    \"message\": {\n",
    "        \"content\": {\n",
    "            \"type\": \"text\",\n",
    "            \"text\": \"This is a WhatsApp Message is there a way to retrive this\",\n",
    "        }\n",
    "    },\n",
    "}\n",
    "\n",
    "response = requests.post(url, auth=(api_key, api_secret), headers=headers, json=payload)\n",
    "\n",
    "print(response.status_code)\n",
    "print(response.json())"
   ]
  },
  {
   "cell_type": "code",
   "execution_count": 16,
   "id": "6d5a51a2",
   "metadata": {},
   "outputs": [
    {
     "ename": "IndentationError",
     "evalue": "unindent does not match any outer indentation level (<tokenize>, line 3)",
     "output_type": "error",
     "traceback": [
      "\u001b[1;36m  File \u001b[1;32m\"<tokenize>\"\u001b[1;36m, line \u001b[1;32m3\u001b[0m\n\u001b[1;33m    if channel == 'messenger':\u001b[0m\n\u001b[1;37m    ^\u001b[0m\n\u001b[1;31mIndentationError\u001b[0m\u001b[1;31m:\u001b[0m unindent does not match any outer indentation level\n"
     ]
    }
   ],
   "source": [
    " if channel == 'whatsapp':\n",
    "           sattam_number = '14157386102'\n",
    "        if channel == 'messenger':\n",
    "           sattam_number = '100614398987044'\n",
    "        if channel == 'instagram':\n",
    "           sattam_number = '17841449184623529'\n",
    "        \n",
    "        headers = {\n",
    "          \"Content-Type\": \"application/json\",\n",
    "          \"Accept\": \"application/json\",\n",
    "        }\n",
    "\n",
    "        payload = {\n",
    "               \"from\": {\"type\": channel, \"number\": sattam_number},\n",
    "               \"to\": {\"type\": channel, \"number\": sender},\n",
    "               \"message\": {\n",
    "               \"content\": {\n",
    "               \"type\": \"text\",\n",
    "               \"text\": reply_message,\n",
    "                          }\n",
    "                        },\n",
    "        }\n",
    "        \n",
    "        response = requests.post(url, auth=(api_key, api_secret), headers=headers, json=payload)\n"
   ]
  },
  {
   "cell_type": "code",
   "execution_count": 17,
   "id": "b0c50aef",
   "metadata": {},
   "outputs": [
    {
     "name": "stdout",
     "output_type": "stream",
     "text": [
      "202\n",
      "{'message_uuid': 'be28a35f-8540-4c4c-8480-36cc34f040c1'}\n"
     ]
    }
   ],
   "source": [
    "import requests\n",
    "\n",
    "url = \"https://messages-sandbox.nexmo.com/v1/messages\"\n",
    "api_key = \"ef666e52\"\n",
    "api_secret = \"bIU3rJiCg3fO8pqd\"\n",
    "\n",
    "headers = {\n",
    "    \"Content-Type\": \"application/json\",\n",
    "    \"Accept\": \"application/json\",\n",
    "}\n",
    "\n",
    "payload = {\n",
    "    \"from\": \"17841449184623529\",\n",
    "    \"to\": \"6744478502271753\",\n",
    "    \"message_type\": \"text\",\n",
    "    \"text\": \"This is a Instagram Message sent from the Messages API\",\n",
    "    \"channel\": \"instagram\"\n",
    "}\n",
    "\n",
    "response = requests.post(url, auth=(api_key, api_secret), headers=headers, json=payload)\n",
    "\n",
    "print(response.status_code)\n",
    "print(response.json())\n"
   ]
  },
  {
   "cell_type": "code",
   "execution_count": 18,
   "id": "0f840ba8",
   "metadata": {},
   "outputs": [
    {
     "name": "stdout",
     "output_type": "stream",
     "text": [
      "Requirement already satisfied: requests in c:\\users\\sulochana\\anaconda3\\lib\\site-packages (2.28.1)\n",
      "Requirement already satisfied: charset-normalizer<3,>=2 in c:\\users\\sulochana\\anaconda3\\lib\\site-packages (from requests) (2.0.4)\n",
      "Requirement already satisfied: idna<4,>=2.5 in c:\\users\\sulochana\\anaconda3\\lib\\site-packages (from requests) (2.10)\n",
      "Requirement already satisfied: urllib3<1.27,>=1.21.1 in c:\\users\\sulochana\\anaconda3\\lib\\site-packages (from requests) (1.26.11)\n",
      "Requirement already satisfied: certifi>=2017.4.17 in c:\\users\\sulochana\\anaconda3\\lib\\site-packages (from requests) (2022.12.7)\n",
      "Note: you may need to restart the kernel to use updated packages.\n"
     ]
    },
    {
     "name": "stderr",
     "output_type": "stream",
     "text": [
      "DEPRECATION: textract 1.6.5 has a non-standard dependency specifier extract-msg<=0.29.*. pip 23.3 will enforce this behaviour change. A possible replacement is to upgrade to a newer version of textract or contact the author to suggest that they release a version with a conforming dependency specifiers. Discussion can be found at https://github.com/pypa/pip/issues/12063\n"
     ]
    }
   ],
   "source": [
    "pip install requests"
   ]
  },
  {
   "cell_type": "code",
   "execution_count": null,
   "id": "5769e688",
   "metadata": {},
   "outputs": [],
   "source": []
  }
 ],
 "metadata": {
  "kernelspec": {
   "display_name": "Python 3 (ipykernel)",
   "language": "python",
   "name": "python3"
  },
  "language_info": {
   "codemirror_mode": {
    "name": "ipython",
    "version": 3
   },
   "file_extension": ".py",
   "mimetype": "text/x-python",
   "name": "python",
   "nbconvert_exporter": "python",
   "pygments_lexer": "ipython3",
   "version": "3.9.13"
  }
 },
 "nbformat": 4,
 "nbformat_minor": 5
}
